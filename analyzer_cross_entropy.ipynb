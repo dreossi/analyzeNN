{
 "cells": [
  {
   "cell_type": "code",
   "execution_count": 1,
   "metadata": {},
   "outputs": [],
   "source": [
    "import random\n",
    "from random import shuffle\n",
    "\n",
    "from PIL import Image, ImageFilter\n",
    "from IPython import display\n",
    "\n",
    "from matplotlib.pyplot import imshow\n",
    "%matplotlib inline\n",
    "\n",
    "import pickle\n",
    "import time\n",
    "import error_table\n",
    "\n",
    "from sampling_utils import *\n",
    "#from gen_utils import *\n",
    "#from evaluation_utils import *\n",
    "#from config_db import ConfigDB"
   ]
  },
  {
   "cell_type": "code",
   "execution_count": 2,
   "metadata": {},
   "outputs": [
    {
     "ename": "ModuleNotFoundError",
     "evalue": "No module named 'tensorflow'",
     "output_type": "error",
     "traceback": [
      "\u001b[0;31m---------------------------------------------------------------------------\u001b[0m",
      "\u001b[0;31mModuleNotFoundError\u001b[0m                       Traceback (most recent call last)",
      "\u001b[0;32m<ipython-input-2-2463636e9dcd>\u001b[0m in \u001b[0;36m<module>\u001b[0;34m()\u001b[0m\n\u001b[1;32m     18\u001b[0m \u001b[0;32mif\u001b[0m \u001b[0mgen_misclass\u001b[0m\u001b[0;34m:\u001b[0m\u001b[0;34m\u001b[0m\u001b[0m\n\u001b[1;32m     19\u001b[0m     \u001b[0mcheckpoint\u001b[0m \u001b[0;34m=\u001b[0m \u001b[0;34m'/home/tommaso/analyzeNN/data/train_0/checkpoint/train/model.ckpt-5000'\u001b[0m\u001b[0;34m\u001b[0m\u001b[0m\n\u001b[0;32m---> 20\u001b[0;31m     \u001b[0;32mimport\u001b[0m \u001b[0msqueezedet\u001b[0m \u001b[0;32mas\u001b[0m \u001b[0mnn\u001b[0m\u001b[0;34m\u001b[0m\u001b[0m\n\u001b[0m\u001b[1;32m     21\u001b[0m     \u001b[0mnet\u001b[0m \u001b[0;34m=\u001b[0m \u001b[0mnn\u001b[0m\u001b[0;34m.\u001b[0m\u001b[0minit\u001b[0m\u001b[0;34m(\u001b[0m\u001b[0mcheckpoint\u001b[0m\u001b[0;34m)\u001b[0m\u001b[0;34m\u001b[0m\u001b[0m\n",
      "\u001b[0;32m~/analyzeNN/squeezedet.py\u001b[0m in \u001b[0;36m<module>\u001b[0;34m()\u001b[0m\n\u001b[1;32m     10\u001b[0m \u001b[0;34m\u001b[0m\u001b[0m\n\u001b[1;32m     11\u001b[0m \u001b[0;32mimport\u001b[0m \u001b[0mnumpy\u001b[0m \u001b[0;32mas\u001b[0m \u001b[0mnp\u001b[0m\u001b[0;34m\u001b[0m\u001b[0m\n\u001b[0;32m---> 12\u001b[0;31m \u001b[0;32mimport\u001b[0m \u001b[0mtensorflow\u001b[0m \u001b[0;32mas\u001b[0m \u001b[0mtf\u001b[0m\u001b[0;34m\u001b[0m\u001b[0m\n\u001b[0m\u001b[1;32m     13\u001b[0m \u001b[0;34m\u001b[0m\u001b[0m\n\u001b[1;32m     14\u001b[0m \u001b[0;34m\u001b[0m\u001b[0m\n",
      "\u001b[0;31mModuleNotFoundError\u001b[0m: No module named 'tensorflow'"
     ]
    }
   ],
   "source": [
    "num_pics = 500\n",
    "min_num_cars = 1\n",
    "max_num_cars = 4\n",
    "\n",
    "domains = [[52,87],[1,37],[0,1],[0.35,1],[0.5,1.5],[0.25,1],[0.5,1],[0.5,1]]\n",
    "types = ['int','int','float','float','float','float','float','float']\n",
    "\n",
    "gen_misclass = True\n",
    "store_config_db = False\n",
    "store_err_tab = True\n",
    "\n",
    "IOMIN_THRESH = 0.4\n",
    "IOU_THRESH = 0.5\n",
    "AP_THRESH = 0.75\n",
    "REC_THRESH = 0.75\n",
    "NN_PROB_THRESH = 0.5\n",
    "\n",
    "if gen_misclass:\n",
    "    checkpoint = '/home/tommaso/analyzeNN/data/train_0/checkpoint/train/model.ckpt-5000'\n",
    "    import squeezedet as nn\n",
    "    net = nn.init(checkpoint)"
   ]
  },
  {
   "cell_type": "code",
   "execution_count": 3,
   "metadata": {
    "scrolled": true
   },
   "outputs": [
    {
     "name": "stdout",
     "output_type": "stream",
     "text": [
      "[[81], [5, 22, 3], [0.20290874680020143, 0.42635901241204543, 0.03128824174179101], [0.7699467020911523, 0.9818600012754808, 0.9532591697655478], [0.5393108094576002], [0.540711638646866], [0.9603979943311902], [0.7794324541236362]]\n",
      "[[56], [18, 31, 14], [0.6676829455131602, 0.10368826290655553, 0.44666692237126104], [0.6973363435773883, 0.5310056779723238, 0.8692341915646726], [0.8229227071207306], [0.6659448881001704], [0.750826635043378], [0.8980703224706716]]\n",
      "[[70], [21, 36, 30], [0.25344217996045737, 0.01304580129225863, 0.4458595533553632], [0.4876184482043513, 0.7437395078562044, 0.5077895346896829], [1.3107980568160644], [0.8175204715937628], [0.9159845665510438], [0.995691861784769]]\n",
      "[[81], [12, 11, 23], [0.5707989304684811, 0.8371144878412045, 0.45283347821661424], [0.7417575658743389, 0.5635411754572783, 0.9263827488773838], [0.9578983998123671], [0.6338961408219675], [0.8029740862300849], [0.5672364336]]\n",
      "[[86], [27, 34, 10], [0.8435376395697838, 0.5473000319890183, 0.07774267309303118], [0.8793582784521409, 0.6881311204845271, 0.41350875709508594], [1.4025696959393121], [0.7229948045928215], [0.9312918149237505], [0.5979926242129717]]\n",
      "[[56], [5, 24, 3], [0.24804886273523774, 0.7105815976372333, 0.1018243192182745], [0.9728358287029362, 0.40819948807016443, 0.4287578404108164], [0.5833656083878763], [0.9838663779552237], [0.5086785807824897], [0.8339657051394516]]\n",
      "[[64], [23, 19, 35], [0.8958219749326048, 0.5753447516876434, 0.1442548198773106], [0.9726505191215835, 0.981281154273174, 0.3699599126586187], [1.2849426484894728], [0.6313310788174411], [0.565401111700406], [0.6360924672581981]]\n",
      "[[54], [30, 29, 16], [0.8626165741883742, 0.7626698107659365, 0.5304832761422636], [0.7425121160555046, 0.3691896354680255, 0.6760386665396572], [0.5410358718721087], [0.2534525406097067], [0.716462078270979], [0.93907095415857]]\n",
      "[[54], [7, 10, 20], [0.1965846253783785, 0.833268658045521, 0.15181677810893013], [0.9176893790503649, 0.6691843692185564, 0.5373692076381679], [0.6697553413544549], [0.7797667406462748], [0.5824594305463312], [0.9340724428867797]]\n",
      "[[72], [12, 16, 27], [0.6964979633997412, 0.6962777223396068, 0.704268729340802], [0.9575903053446162, 0.4962302028944613, 0.41399612718055956], [1.2102282336281474], [0.36149250304379366], [0.8034184007291154], [0.7080883512399831]]\n",
      "[[86], [18, 29, 18], [0.8610853027124716, 0.08569753255570944, 0.3899519583942165], [0.35833192660955077, 0.78067091676319, 0.7851115586061823], [0.6373888636311317], [0.6502761165547492], [0.5891513449548308], [0.6224226015500531]]\n",
      "[[63], [29, 28, 29], [0.4591426798023147, 0.2118696308385325, 0.04303344513024887], [0.5228578690926297, 0.8546902670050747, 0.36069925631703686], [1.2715603386713799], [0.29838500964687675], [0.682524643720984], [0.9205814630900011]]\n",
      "[[67], [36, 26, 17], [0.03159573397431514, 0.09887921505268082, 0.6592197295351939], [0.35018885224544694, 0.7159289972405471, 0.4913394909931936], [1.3205472885633722], [0.899987464378081], [0.715609190688653], [0.8916169510391567]]\n",
      "[[84], [19, 35, 36], [0.7399643360674134, 0.8121370905971229, 0.6808258332172914], [0.7917044505366884, 0.9799005065074632, 0.8462167779282831], [0.591424636801954], [0.6236071829092027], [0.5163183910034717], [0.9796537390783004]]\n",
      "[[80], [4, 20, 10], [0.6221201992383242, 0.9916079490550084, 0.4004924085610908], [0.4704272223445569, 0.670867731321291, 0.425456575335834], [0.8943766091875737], [0.7049674157366721], [0.6180909630448681], [0.8995350631460224]]\n",
      "[[82], [17, 29, 14], [0.8045654175226065, 0.006226709973774058, 0.5031224775969685], [0.7993691864569004, 0.8629086654255921, 0.895365692174263], [1.3121379177790717], [0.9574195254823885], [0.9384197997040156], [0.6529690388030952]]\n"
     ]
    },
    {
     "ename": "KeyboardInterrupt",
     "evalue": "",
     "output_type": "error",
     "traceback": [
      "\u001b[0;31m---------------------------------------------------------------------------\u001b[0m",
      "\u001b[0;31mKeyboardInterrupt\u001b[0m                         Traceback (most recent call last)",
      "\u001b[0;32m<ipython-input-3-94c1876967c8>\u001b[0m in \u001b[0;36m<module>\u001b[0;34m()\u001b[0m\n\u001b[1;32m     60\u001b[0m \u001b[0;34m\u001b[0m\u001b[0m\n\u001b[1;32m     61\u001b[0m                 \u001b[0;31m# Classify img\u001b[0m\u001b[0;34m\u001b[0m\u001b[0;34m\u001b[0m\u001b[0m\n\u001b[0;32m---> 62\u001b[0;31m                 \u001b[0;34m(\u001b[0m\u001b[0mboxes\u001b[0m\u001b[0;34m,\u001b[0m\u001b[0mprobs\u001b[0m\u001b[0;34m,\u001b[0m\u001b[0mcats\u001b[0m\u001b[0;34m)\u001b[0m \u001b[0;34m=\u001b[0m \u001b[0mnn\u001b[0m\u001b[0;34m.\u001b[0m\u001b[0mclassify\u001b[0m\u001b[0;34m(\u001b[0m\u001b[0mtmp_img_file_name\u001b[0m\u001b[0;34m,\u001b[0m \u001b[0mnet\u001b[0m\u001b[0;34m,\u001b[0m \u001b[0mNN_PROB_THRESH\u001b[0m\u001b[0;34m)\u001b[0m\u001b[0;34m\u001b[0m\u001b[0m\n\u001b[0m\u001b[1;32m     63\u001b[0m                 \u001b[0;32mprint\u001b[0m \u001b[0mboxes\u001b[0m\u001b[0;34m\u001b[0m\u001b[0m\n\u001b[1;32m     64\u001b[0m \u001b[0;34m\u001b[0m\u001b[0m\n",
      "\u001b[0;32m/home/tommaso/analyzeNN/squeezedet.pyc\u001b[0m in \u001b[0;36mclassify\u001b[0;34m(im_path, conf, prob_thresh)\u001b[0m\n\u001b[1;32m     57\u001b[0m     \u001b[0;34m(\u001b[0m\u001b[0msess\u001b[0m\u001b[0;34m,\u001b[0m\u001b[0mmc\u001b[0m\u001b[0;34m,\u001b[0m\u001b[0mmodel\u001b[0m\u001b[0;34m)\u001b[0m \u001b[0;34m=\u001b[0m \u001b[0mconf\u001b[0m\u001b[0;34m\u001b[0m\u001b[0m\n\u001b[1;32m     58\u001b[0m     \u001b[0mim\u001b[0m \u001b[0;34m=\u001b[0m \u001b[0mcv2\u001b[0m\u001b[0;34m.\u001b[0m\u001b[0mimread\u001b[0m\u001b[0;34m(\u001b[0m\u001b[0mim_path\u001b[0m\u001b[0;34m)\u001b[0m\u001b[0;34m\u001b[0m\u001b[0m\n\u001b[0;32m---> 59\u001b[0;31m     \u001b[0mim\u001b[0m \u001b[0;34m=\u001b[0m \u001b[0mim\u001b[0m\u001b[0;34m.\u001b[0m\u001b[0mastype\u001b[0m\u001b[0;34m(\u001b[0m\u001b[0mnp\u001b[0m\u001b[0;34m.\u001b[0m\u001b[0mfloat32\u001b[0m\u001b[0;34m,\u001b[0m \u001b[0mcopy\u001b[0m\u001b[0;34m=\u001b[0m\u001b[0mFalse\u001b[0m\u001b[0;34m)\u001b[0m\u001b[0;34m\u001b[0m\u001b[0m\n\u001b[0m\u001b[1;32m     60\u001b[0m     \u001b[0mim\u001b[0m \u001b[0;34m=\u001b[0m \u001b[0mcv2\u001b[0m\u001b[0;34m.\u001b[0m\u001b[0mresize\u001b[0m\u001b[0;34m(\u001b[0m\u001b[0mim\u001b[0m\u001b[0;34m,\u001b[0m \u001b[0;34m(\u001b[0m\u001b[0mmc\u001b[0m\u001b[0;34m.\u001b[0m\u001b[0mIMAGE_WIDTH\u001b[0m\u001b[0;34m,\u001b[0m \u001b[0mmc\u001b[0m\u001b[0;34m.\u001b[0m\u001b[0mIMAGE_HEIGHT\u001b[0m\u001b[0;34m)\u001b[0m\u001b[0;34m)\u001b[0m\u001b[0;34m\u001b[0m\u001b[0m\n\u001b[1;32m     61\u001b[0m     \u001b[0minput_image\u001b[0m \u001b[0;34m=\u001b[0m \u001b[0mim\u001b[0m \u001b[0;34m-\u001b[0m \u001b[0mmc\u001b[0m\u001b[0;34m.\u001b[0m\u001b[0mBGR_MEANS\u001b[0m\u001b[0;34m\u001b[0m\u001b[0m\n",
      "\u001b[0;31mKeyboardInterrupt\u001b[0m: "
     ]
    }
   ],
   "source": [
    "for j in range(min_num_cars,max_num_cars):\n",
    "    \n",
    "    total_attempts = 0\n",
    "    rejections = 0\n",
    "    \n",
    "    # Init data structure\n",
    "    if store_err_tab:\n",
    "        err_table = error_table()\n",
    "    if store_config_db:\n",
    "        config_db = ConfigDB()\n",
    "    \n",
    "    path_data_set = './data/mis_halt/'\n",
    "    #path_data_set = '/home/tommaso/analyzeNN/data/train_0/mis/mis_' + str(j) + '/'\n",
    "    \n",
    "    i = 0\n",
    "    v = 0\n",
    "\n",
    "    while i < num_pics:\n",
    "        \n",
    "        v = v+1\n",
    "\n",
    "        # Sample configuration\n",
    "        #num_cars = random.randint(min_num_cars, max_num_cars)\n",
    "        num_cars = 3\n",
    "        sample_dims = [1,num_cars,num_cars,num_cars,1,1,1,1]\n",
    "        sample, norm_sample = get_sample(v, 'random', types=types, domains=domains, dims=sample_dims)\n",
    "        \n",
    "        print sample\n",
    "        sample[3].sort(reverse=True)\n",
    "        norm_sample[3].sort(reverse=True)\n",
    "        \n",
    "        total_attempts += 1\n",
    "        \n",
    "        good_sample = True\n",
    "        # Check sample distance from stored ones\n",
    "        if store_config_db:\n",
    "            sample_pad = pad_sample(sample)\n",
    "            good_sample = config_db.eps_dist(sample_pad,0.25)\n",
    "            \n",
    "            \n",
    "        if good_sample:\n",
    "            # Generate image from sample\n",
    "            img, ground_boxes, img_info = gen_image(sample)\n",
    "\n",
    "            # Is it a good picture? (cars don't overlap too much)\n",
    "            save_img = True\n",
    "            for m in range(len(ground_boxes)):\n",
    "                for n in range(m+1, len(ground_boxes)):\n",
    "                    if iomin(ground_boxes[m], ground_boxes[n]) > IOMIN_THRESH:\n",
    "                        save_img = False\n",
    "\n",
    "            ap = 0\n",
    "            recall = 0\n",
    "                        \n",
    "            # Check misclassification\n",
    "            if gen_misclass and save_img:\n",
    "                # Save tmp image    \n",
    "                tmp_img_file_name = './tmp.png'\n",
    "                img.save(tmp_img_file_name)\n",
    "\n",
    "                # Classify img\n",
    "                (boxes,probs,cats) = nn.classify(tmp_img_file_name, net, NN_PROB_THRESH) \n",
    "                print boxes\n",
    "\n",
    "                # Not cars\n",
    "                if any(cats):\n",
    "                    save_img = True\n",
    "                else:\n",
    "                    ap, recall = average_precision(ground_boxes, boxes, IOU_THRESH)\n",
    "                    save_img =  (ap <= AP_THRESH or recall <= REC_THRESH)\n",
    "                        \n",
    "                        \n",
    "\n",
    "            if save_img:\n",
    "                \n",
    "                if store_config_db:\n",
    "                    config_db.add(sample_pad)            \n",
    "                \n",
    "                file_name = 'm_h_' + str(j) + '_' + str(i).zfill(6)\n",
    "                #file_name = 'm_d_' + str(i).zfill(6)\n",
    "                \n",
    "                print(file_name + ' ' + str(ap) + ' ' + str(recall))\n",
    "                \n",
    "                # Save data\n",
    "                save_image(img, file_name, path_data_set)\n",
    "                save_label(ground_boxes, file_name, path_data_set)\n",
    "                \n",
    "                # Save in image set\n",
    "                with open(path_data_set + 'image_set_m_1.txt', \"a+\") as im_set:\n",
    "                    im_set.write(file_name + '\\n')\n",
    "                    im_set.close()\n",
    "                \n",
    "                if store_err_tab:\n",
    "                    err_table.update_with_elem(img_info)\n",
    "                    \n",
    "                i+=1\n",
    "        else:\n",
    "            rejections += 1\n",
    "\n",
    "#         if(total_attempts %50 == 0):\n",
    "#             print('gen pics: ' + str(total_attempts) + ' | misclass pics: ' + str(i) + ' | rejections: ' +str(rejections))\n",
    "            \n",
    "print('END gen pics: ' + str(total_attempts) + ' | misclass pics: ' + str(i) + ' | rejections: ' +str(rejections))\n",
    "\n",
    "if store_err_tab:\n",
    "    err_table_file = open(path_data_set + 'error_table' + str(),'w')\n",
    "    pickle.dump(err_table,err_table_file)\n",
    "    err_table_file.close()"
   ]
  },
  {
   "cell_type": "code",
   "execution_count": 52,
   "metadata": {
    "collapsed": true
   },
   "outputs": [],
   "source": [
    "(boxes,probs,cats) = nn.classify('./data/train_0/mis/images/m_0_3_000049.png', net, NN_PROB_THRESH) "
   ]
  },
  {
   "cell_type": "code",
   "execution_count": 53,
   "metadata": {
    "collapsed": true
   },
   "outputs": [],
   "source": [
    "labels = read_label('./data/train_0/mis/labels/m_0_3_000049.txt')\n",
    "label_boxes = [ kitti_2_box_format(l) for l in labels ]\n",
    "ap, recall = average_precision(label_boxes, boxes, IOU_THRESH)"
   ]
  },
  {
   "cell_type": "code",
   "execution_count": 54,
   "metadata": {},
   "outputs": [
    {
     "data": {
      "text/plain": [
       "0.75"
      ]
     },
     "execution_count": 54,
     "metadata": {},
     "output_type": "execute_result"
    }
   ],
   "source": [
    "ap"
   ]
  },
  {
   "cell_type": "code",
   "execution_count": 55,
   "metadata": {},
   "outputs": [
    {
     "data": {
      "text/plain": [
       "1.0"
      ]
     },
     "execution_count": 55,
     "metadata": {},
     "output_type": "execute_result"
    }
   ],
   "source": [
    "recall"
   ]
  },
  {
   "cell_type": "code",
   "execution_count": 38,
   "metadata": {},
   "outputs": [
    {
     "data": {
      "text/plain": [
       "[array([ 584.81933594,  220.34779358,  129.04016113,  105.63809204], dtype=float32),\n",
       " array([ 589.07788086,  173.05867004,   62.38708496,   49.52755737], dtype=float32),\n",
       " array([ 635.69897461,  169.13327026,   56.59399414,   41.10015869], dtype=float32)]"
      ]
     },
     "execution_count": 38,
     "metadata": {},
     "output_type": "execute_result"
    }
   ],
   "source": [
    "boxes"
   ]
  },
  {
   "cell_type": "code",
   "execution_count": 42,
   "metadata": {},
   "outputs": [
    {
     "data": {
      "text/plain": [
       "[[610.0, 145.0, 654.0, 177.0],\n",
       " [556.0, 144.0, 612.0, 192.0],\n",
       " [518.0, 179.0, 646.0, 265.0]]"
      ]
     },
     "execution_count": 42,
     "metadata": {},
     "output_type": "execute_result"
    }
   ],
   "source": [
    "gb"
   ]
  },
  {
   "cell_type": "code",
   "execution_count": 56,
   "metadata": {},
   "outputs": [
    {
     "ename": "AttributeError",
     "evalue": "'tuple' object has no attribute 'close'",
     "output_type": "error",
     "traceback": [
      "\u001b[0;31m---------------------------------------------------------------------------\u001b[0m",
      "\u001b[0;31mAttributeError\u001b[0m                            Traceback (most recent call last)",
      "\u001b[0;32m<ipython-input-56-62f3552097de>\u001b[0m in \u001b[0;36m<module>\u001b[0;34m()\u001b[0m\n\u001b[0;32m----> 1\u001b[0;31m \u001b[0mnet\u001b[0m\u001b[0;34m.\u001b[0m\u001b[0mclose\u001b[0m\u001b[0;34m(\u001b[0m\u001b[0;34m)\u001b[0m\u001b[0;34m\u001b[0m\u001b[0m\n\u001b[0m",
      "\u001b[0;31mAttributeError\u001b[0m: 'tuple' object has no attribute 'close'"
     ]
    }
   ],
   "source": [
    "net.close()"
   ]
  },
  {
   "cell_type": "code",
   "execution_count": 5,
   "metadata": {
    "collapsed": true
   },
   "outputs": [],
   "source": [
    "e = pickle.load( open( \"error_table\", \"rb\" ) )"
   ]
  },
  {
   "cell_type": "code",
   "execution_count": 6,
   "metadata": {},
   "outputs": [
    {
     "data": {
      "text/plain": [
       "instance"
      ]
     },
     "execution_count": 6,
     "metadata": {},
     "output_type": "execute_result"
    }
   ],
   "source": [
    "type(e)"
   ]
  },
  {
   "cell_type": "code",
   "execution_count": 13,
   "metadata": {},
   "outputs": [
    {
     "data": {
      "text/plain": [
       "['foreground0_width',\n",
       " 'color_sample',\n",
       " 'road_path',\n",
       " 'environment',\n",
       " 'road_id',\n",
       " 'foreground0car_color',\n",
       " 'foreground0car_orientation',\n",
       " 'foreground0_x',\n",
       " 'foreground0car_category',\n",
       " 'road_type',\n",
       " 'foreground0car_id',\n",
       " 'foreground0type',\n",
       " 'sharpness_sample',\n",
       " 'contrast_sample',\n",
       " 'foreground0car_path',\n",
       " 'foreground0_height',\n",
       " 'background_color',\n",
       " 'foreground0_y',\n",
       " 'brightness_sample']"
      ]
     },
     "execution_count": 13,
     "metadata": {},
     "output_type": "execute_result"
    }
   ],
   "source": [
    "e.entries.keys()"
   ]
  },
  {
   "cell_type": "code",
   "execution_count": 3,
   "metadata": {},
   "outputs": [
    {
     "ename": "IndexError",
     "evalue": "list index out of range",
     "output_type": "error",
     "traceback": [
      "\u001b[0;31m---------------------------------------------------------------------------\u001b[0m",
      "\u001b[0;31mIndexError\u001b[0m                                Traceback (most recent call last)",
      "\u001b[0;32m<ipython-input-3-60489385debe>\u001b[0m in \u001b[0;36m<module>\u001b[0;34m()\u001b[0m\n\u001b[1;32m      1\u001b[0m \u001b[0mnum_cars\u001b[0m\u001b[0;34m=\u001b[0m\u001b[0;36m1\u001b[0m\u001b[0;34m\u001b[0m\u001b[0m\n\u001b[1;32m      2\u001b[0m \u001b[0msample_dims\u001b[0m \u001b[0;34m=\u001b[0m \u001b[0;34m[\u001b[0m\u001b[0;36m1\u001b[0m\u001b[0;34m,\u001b[0m\u001b[0mnum_cars\u001b[0m\u001b[0;34m,\u001b[0m\u001b[0mnum_cars\u001b[0m\u001b[0;34m,\u001b[0m\u001b[0mnum_cars\u001b[0m\u001b[0;34m,\u001b[0m\u001b[0;36m1\u001b[0m\u001b[0;34m,\u001b[0m\u001b[0;36m1\u001b[0m\u001b[0;34m,\u001b[0m\u001b[0;36m1\u001b[0m\u001b[0;34m,\u001b[0m\u001b[0;36m1\u001b[0m\u001b[0;34m]\u001b[0m\u001b[0;34m\u001b[0m\u001b[0m\n\u001b[0;32m----> 3\u001b[0;31m \u001b[0msample\u001b[0m\u001b[0;34m,\u001b[0m \u001b[0mnorm_sample\u001b[0m \u001b[0;34m=\u001b[0m \u001b[0mget_sample\u001b[0m\u001b[0;34m(\u001b[0m\u001b[0;36m0\u001b[0m\u001b[0;34m,\u001b[0m \u001b[0;34m'halton'\u001b[0m\u001b[0;34m,\u001b[0m \u001b[0mtypes\u001b[0m\u001b[0;34m=\u001b[0m\u001b[0mtypes\u001b[0m\u001b[0;34m,\u001b[0m \u001b[0mdomains\u001b[0m\u001b[0;34m=\u001b[0m\u001b[0mdomains\u001b[0m\u001b[0;34m,\u001b[0m \u001b[0mdims\u001b[0m\u001b[0;34m=\u001b[0m\u001b[0msample_dims\u001b[0m\u001b[0;34m)\u001b[0m\u001b[0;34m\u001b[0m\u001b[0m\n\u001b[0m",
      "\u001b[0;32m/home/tommaso/analyzeNN/sampling_utils.pyc\u001b[0m in \u001b[0;36mget_sample\u001b[0;34m(i, method, types, domains, dims)\u001b[0m\n\u001b[1;32m     72\u001b[0m             \u001b[0msample\u001b[0m \u001b[0;34m=\u001b[0m \u001b[0mrandom_sample\u001b[0m\u001b[0;34m(\u001b[0m\u001b[0md\u001b[0m\u001b[0;34m)\u001b[0m\u001b[0;34m\u001b[0m\u001b[0m\n\u001b[1;32m     73\u001b[0m         \u001b[0;32mif\u001b[0m \u001b[0mmethod\u001b[0m \u001b[0;34m==\u001b[0m \u001b[0;34m'halton'\u001b[0m\u001b[0;34m:\u001b[0m\u001b[0;34m\u001b[0m\u001b[0m\n\u001b[0;32m---> 74\u001b[0;31m             \u001b[0msample\u001b[0m \u001b[0;34m=\u001b[0m \u001b[0mhalton_sample\u001b[0m\u001b[0;34m(\u001b[0m\u001b[0mi\u001b[0m\u001b[0;34m,\u001b[0m \u001b[0md\u001b[0m\u001b[0;34m)\u001b[0m\u001b[0;34m\u001b[0m\u001b[0m\n\u001b[0m\u001b[1;32m     75\u001b[0m \u001b[0;34m\u001b[0m\u001b[0m\n\u001b[1;32m     76\u001b[0m         \u001b[0mtyp\u001b[0m \u001b[0;34m=\u001b[0m \u001b[0mtypes\u001b[0m\u001b[0;34m[\u001b[0m\u001b[0mk\u001b[0m\u001b[0;34m]\u001b[0m\u001b[0;34m\u001b[0m\u001b[0m\n",
      "\u001b[0;32m/home/tommaso/analyzeNN/sampling_utils.pyc\u001b[0m in \u001b[0;36mhalton_sample\u001b[0;34m(i, dim)\u001b[0m\n\u001b[1;32m     43\u001b[0m     \u001b[0msample\u001b[0m \u001b[0;34m=\u001b[0m \u001b[0;34m[\u001b[0m\u001b[0;34m]\u001b[0m\u001b[0;34m\u001b[0m\u001b[0m\n\u001b[1;32m     44\u001b[0m     \u001b[0;32mfor\u001b[0m \u001b[0mseq\u001b[0m \u001b[0;32min\u001b[0m \u001b[0mseqs\u001b[0m\u001b[0;34m:\u001b[0m\u001b[0;34m\u001b[0m\u001b[0m\n\u001b[0;32m---> 45\u001b[0;31m         \u001b[0msample\u001b[0m \u001b[0;34m+=\u001b[0m \u001b[0;34m[\u001b[0m\u001b[0mseq\u001b[0m\u001b[0;34m[\u001b[0m\u001b[0;34m-\u001b[0m\u001b[0;36m1\u001b[0m\u001b[0;34m]\u001b[0m\u001b[0;34m]\u001b[0m\u001b[0;34m\u001b[0m\u001b[0m\n\u001b[0m\u001b[1;32m     46\u001b[0m \u001b[0;34m\u001b[0m\u001b[0m\n\u001b[1;32m     47\u001b[0m     \u001b[0;32mreturn\u001b[0m \u001b[0msample\u001b[0m\u001b[0;34m\u001b[0m\u001b[0m\n",
      "\u001b[0;31mIndexError\u001b[0m: list index out of range"
     ]
    }
   ],
   "source": [
    "num_cars=1\n",
    "sample_dims = [1,num_cars,num_cars,num_cars,1,1,1,1]\n",
    "sample, norm_sample = get_sample(0, 'halton', types=types, domains=domains, dims=sample_dims)"
   ]
  },
  {
   "cell_type": "code",
   "execution_count": null,
   "metadata": {},
   "outputs": [],
   "source": []
  }
 ],
 "metadata": {
  "anaconda-cloud": {},
  "kernelspec": {
   "display_name": "Python 2",
   "language": "python",
   "name": "python2"
  },
  "language_info": {
   "codemirror_mode": {
    "name": "ipython",
    "version": 3
   },
   "file_extension": ".py",
   "mimetype": "text/x-python",
   "name": "python",
   "nbconvert_exporter": "python",
   "pygments_lexer": "ipython3",
   "version": "3.6.4"
  }
 },
 "nbformat": 4,
 "nbformat_minor": 2
}
