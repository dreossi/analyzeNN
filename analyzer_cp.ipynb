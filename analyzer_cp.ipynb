{
 "cells": [
  {
   "cell_type": "code",
   "execution_count": 1,
   "metadata": {},
   "outputs": [],
   "source": [
    "import random\n",
    "from random import shuffle\n",
    "\n",
    "from PIL import Image, ImageFilter\n",
    "from IPython import display\n",
    "\n",
    "from matplotlib.pyplot import imshow\n",
    "%matplotlib inline\n",
    "\n",
    "import pickle\n",
    "import time\n",
    "import error_table\n",
    "\n",
    "from sampling_utils import *\n",
    "from gen_utils import *\n",
    "from evaluation_utils import *\n",
    "from config_db import ConfigDB"
   ]
  },
  {
   "cell_type": "code",
   "execution_count": 1,
   "metadata": {},
   "outputs": [
    {
     "ename": "ModuleNotFoundError",
     "evalue": "No module named 'tensorflow'",
     "output_type": "error",
     "traceback": [
      "\u001b[0;31m---------------------------------------------------------------------------\u001b[0m",
      "\u001b[0;31mModuleNotFoundError\u001b[0m                       Traceback (most recent call last)",
      "\u001b[0;32m<ipython-input-1-5f989f4c5bc1>\u001b[0m in \u001b[0;36m<module>\u001b[0;34m()\u001b[0m\n\u001b[1;32m     19\u001b[0m \u001b[0;32mif\u001b[0m \u001b[0mgen_misclass\u001b[0m\u001b[0;34m:\u001b[0m\u001b[0;34m\u001b[0m\u001b[0m\n\u001b[1;32m     20\u001b[0m     \u001b[0mcheckpoint\u001b[0m \u001b[0;34m=\u001b[0m \u001b[0;34m'/home/tommaso/analyzeNN/data/train_0/checkpoint/train/model.ckpt-5000'\u001b[0m\u001b[0;34m\u001b[0m\u001b[0m\n\u001b[0;32m---> 21\u001b[0;31m     \u001b[0;32mimport\u001b[0m \u001b[0msqueezedet\u001b[0m \u001b[0;32mas\u001b[0m \u001b[0mnn\u001b[0m\u001b[0;34m\u001b[0m\u001b[0m\n\u001b[0m\u001b[1;32m     22\u001b[0m     \u001b[0mnet\u001b[0m \u001b[0;34m=\u001b[0m \u001b[0mnn\u001b[0m\u001b[0;34m.\u001b[0m\u001b[0minit\u001b[0m\u001b[0;34m(\u001b[0m\u001b[0mcheckpoint\u001b[0m\u001b[0;34m)\u001b[0m\u001b[0;34m\u001b[0m\u001b[0m\n",
      "\u001b[0;32m~/analyzeNN/squeezedet.py\u001b[0m in \u001b[0;36m<module>\u001b[0;34m()\u001b[0m\n\u001b[1;32m     10\u001b[0m \u001b[0;34m\u001b[0m\u001b[0m\n\u001b[1;32m     11\u001b[0m \u001b[0;32mimport\u001b[0m \u001b[0mnumpy\u001b[0m \u001b[0;32mas\u001b[0m \u001b[0mnp\u001b[0m\u001b[0;34m\u001b[0m\u001b[0m\n\u001b[0;32m---> 12\u001b[0;31m \u001b[0;32mimport\u001b[0m \u001b[0mtensorflow\u001b[0m \u001b[0;32mas\u001b[0m \u001b[0mtf\u001b[0m\u001b[0;34m\u001b[0m\u001b[0m\n\u001b[0m\u001b[1;32m     13\u001b[0m \u001b[0;34m\u001b[0m\u001b[0m\n\u001b[1;32m     14\u001b[0m \u001b[0;34m\u001b[0m\u001b[0m\n",
      "\u001b[0;31mModuleNotFoundError\u001b[0m: No module named 'tensorflow'"
     ]
    }
   ],
   "source": [
    "num_pics = 10\n",
    "min_num_cars = 1\n",
    "max_num_cars = 4\n",
    "\n",
    "domains = [[52,87],[1,37],[0,1],[0.35,1],[0.5,1.5],[0.25,1],[0.5,1],[0.5,1]]\n",
    "#domains = [[74,77],[1,37],[0,1],[0.4,1],[0.5,0.6],[0.5,0.6],[0.5,0.6],[0.5,0.6]]\n",
    "types = ['int','int','float','float','float','float','float','float']\n",
    "\n",
    "gen_misclass = True\n",
    "store_config_db = False\n",
    "store_err_tab = False\n",
    "\n",
    "IOMIN_THRESH = 0.4\n",
    "IOU_THRESH = 0.5\n",
    "AP_THRESH = 0.75\n",
    "REC_THRESH = 0.75\n",
    "NN_PROB_THRESH = 0.5\n",
    "\n",
    "if gen_misclass:\n",
    "    checkpoint = '/home/tommaso/analyzeNN/data/train_0/checkpoint/train/model.ckpt-5000'\n",
    "    import squeezedet as nn\n",
    "    net = nn.init(checkpoint)"
   ]
  },
  {
   "cell_type": "code",
   "execution_count": 5,
   "metadata": {
    "scrolled": true
   },
   "outputs": [
    {
     "name": "stdout",
     "output_type": "stream",
     "text": [
      "m_h_1_000000 0.0 0.0\n",
      "m_h_1_000001 0.5 1.0\n",
      "m_h_1_000002 0.666666666667 1.0\n",
      "m_h_1_000003 0.5 0.5\n",
      "m_h_1_000004 0.75 1.0\n",
      "m_h_1_000005 0.5 0.5\n",
      "m_h_1_000006 0.666666666667 1.0\n",
      "m_h_1_000007 0.0 0.0\n",
      "m_h_1_000008 0.0 0.0\n",
      "m_h_1_000009 0.666666666667 1.0\n",
      "m_h_2_000000 0.666666666667 1.0\n",
      "m_h_2_000001 0.666666666667 1.0\n",
      "m_h_2_000002 0.666666666667 0.666666666667\n",
      "m_h_2_000003 0.5 0.5\n",
      "m_h_2_000004 0.0 0.0\n",
      "m_h_2_000005 0.5 0.5\n",
      "m_h_2_000006 0.666666666667 1.0\n",
      "m_h_2_000007 0.0 0.0\n",
      "m_h_2_000008 0.0 0.0\n",
      "m_h_2_000009 0.75 1.0\n",
      "m_h_3_000000 0.666666666667 1.0\n",
      "m_h_3_000001 1.0 0.5\n",
      "m_h_3_000002 0.5 0.5\n",
      "m_h_3_000003 0.5 0.5\n",
      "m_h_3_000004 0.5 1.0\n",
      "m_h_3_000005 0.666666666667 1.0\n",
      "m_h_3_000006 0.666666666667 0.666666666667\n",
      "m_h_3_000007 0.666666666667 1.0\n",
      "m_h_3_000008 0.666666666667 1.0\n",
      "m_h_3_000009 0.666666666667 1.0\n",
      "END gen pics: 901 | misclass pics: 10 | rejections: 0\n"
     ]
    }
   ],
   "source": [
    "for j in range(min_num_cars,max_num_cars):\n",
    "    \n",
    "    total_attempts = 0\n",
    "    rejections = 0\n",
    "    \n",
    "    # Init data structure\n",
    "    if store_err_tab:\n",
    "        err_table = error_table()\n",
    "    if store_config_db:\n",
    "        config_db = ConfigDB()\n",
    "    \n",
    "    path_data_set = './data/tmp/'\n",
    "    #path_data_set = '/home/tommaso/analyzeNN/data/train_0/mis/mis_' + str(j) + '/'\n",
    "    \n",
    "    i = 0\n",
    "    v = 0\n",
    "\n",
    "    while i < num_pics:\n",
    "        \n",
    "        v = v+1\n",
    "\n",
    "        # Sample configuration\n",
    "        num_cars = random.randint(min_num_cars, max_num_cars)\n",
    "        sample_dims = [1,num_cars,num_cars,num_cars,1,1,1,1]\n",
    "        sample, norm_sample = get_sample(v, 'random', types=types, domains=domains, dims=sample_dims)\n",
    "        \n",
    "        car_models = []\n",
    "        for c in range(num_cars):\n",
    "            car_models += [random.choice([2,27,26,28,29,30])]\n",
    "        sample[1] = car_models\n",
    "        \n",
    "        sample[3].sort(reverse=True)\n",
    "        norm_sample[3].sort(reverse=True)\n",
    "        \n",
    "        total_attempts += 1\n",
    "        \n",
    "        good_sample = True\n",
    "        # Check sample distance from stored ones\n",
    "        if store_config_db:\n",
    "            sample_pad = pad_sample(sample)\n",
    "            good_sample = config_db.eps_dist(sample_pad,0.25)\n",
    "            \n",
    "            \n",
    "        if good_sample:\n",
    "            # Generate image from sample\n",
    "            img, ground_boxes, img_info = gen_image(sample)\n",
    "\n",
    "            # Is it a good picture? (cars don't overlap too much)\n",
    "            save_img = True\n",
    "            for m in range(len(ground_boxes)):\n",
    "                for n in range(m+1, len(ground_boxes)):\n",
    "                    if iomin(ground_boxes[m], ground_boxes[n]) > IOMIN_THRESH:\n",
    "                        save_img = False\n",
    "\n",
    "            ap = 0\n",
    "            recall = 0\n",
    "                        \n",
    "            # Check misclassification\n",
    "            if gen_misclass and save_img:\n",
    "                # Save tmp image    \n",
    "                tmp_img_file_name = './tmp.png'\n",
    "                img.save(tmp_img_file_name)\n",
    "\n",
    "                # Classify img\n",
    "                (boxes,probs,cats) = nn.classify(tmp_img_file_name, net, NN_PROB_THRESH) \n",
    "\n",
    "                # Not cars\n",
    "                if any(cats):\n",
    "                    save_img = True\n",
    "                else:\n",
    "                    ap, recall = average_precision(ground_boxes, boxes, IOU_THRESH)\n",
    "                    save_img =  (ap <= AP_THRESH or recall <= REC_THRESH)                        \n",
    "                        \n",
    "\n",
    "            if save_img:\n",
    "                \n",
    "                if store_config_db:\n",
    "                    config_db.add(sample_pad)            \n",
    "                \n",
    "                file_name = 'm_h_' + str(j) + '_' + str(i).zfill(6)\n",
    "                #file_name = 'm_d_' + str(i).zfill(6)\n",
    "                \n",
    "                print(file_name + ' ' + str(ap) + ' ' + str(recall))\n",
    "                \n",
    "                # Save data\n",
    "                save_image(img, file_name, path_data_set)\n",
    "                save_label(ground_boxes, file_name, path_data_set)\n",
    "                \n",
    "                # Save in image set\n",
    "                with open(path_data_set + 'image_set_m_1.txt', \"a+\") as im_set:\n",
    "                    im_set.write(file_name + '\\n')\n",
    "                    im_set.close()\n",
    "                \n",
    "                if store_err_tab:\n",
    "                    err_table.update_with_elem(img_info)\n",
    "                    \n",
    "                i+=1\n",
    "        else:\n",
    "            rejections += 1\n",
    "\n",
    "#         if(total_attempts %50 == 0):\n",
    "#             print('gen pics: ' + str(total_attempts) + ' | misclass pics: ' + str(i) + ' | rejections: ' +str(rejections))\n",
    "            \n",
    "print('END gen pics: ' + str(total_attempts) + ' | misclass pics: ' + str(i) + ' | rejections: ' +str(rejections))\n",
    "\n",
    "if store_err_tab:\n",
    "    err_table_file = open(path_data_set + 'error_table' + str(),'w')\n",
    "    pickle.dump(err_table,err_table_file)\n",
    "    err_table_file.close()"
   ]
  },
  {
   "cell_type": "code",
   "execution_count": 52,
   "metadata": {
    "collapsed": true
   },
   "outputs": [],
   "source": [
    "(boxes,probs,cats) = nn.classify('./data/train_0/mis/images/m_0_3_000049.png', net, NN_PROB_THRESH) "
   ]
  },
  {
   "cell_type": "code",
   "execution_count": 53,
   "metadata": {
    "collapsed": true
   },
   "outputs": [],
   "source": [
    "labels = read_label('./data/train_0/mis/labels/m_0_3_000049.txt')\n",
    "label_boxes = [ kitti_2_box_format(l) for l in labels ]\n",
    "ap, recall = average_precision(label_boxes, boxes, IOU_THRESH)"
   ]
  },
  {
   "cell_type": "code",
   "execution_count": 54,
   "metadata": {},
   "outputs": [
    {
     "data": {
      "text/plain": [
       "0.75"
      ]
     },
     "execution_count": 54,
     "metadata": {},
     "output_type": "execute_result"
    }
   ],
   "source": [
    "ap"
   ]
  },
  {
   "cell_type": "code",
   "execution_count": 55,
   "metadata": {},
   "outputs": [
    {
     "data": {
      "text/plain": [
       "1.0"
      ]
     },
     "execution_count": 55,
     "metadata": {},
     "output_type": "execute_result"
    }
   ],
   "source": [
    "recall"
   ]
  },
  {
   "cell_type": "code",
   "execution_count": 38,
   "metadata": {},
   "outputs": [
    {
     "data": {
      "text/plain": [
       "[array([ 584.81933594,  220.34779358,  129.04016113,  105.63809204], dtype=float32),\n",
       " array([ 589.07788086,  173.05867004,   62.38708496,   49.52755737], dtype=float32),\n",
       " array([ 635.69897461,  169.13327026,   56.59399414,   41.10015869], dtype=float32)]"
      ]
     },
     "execution_count": 38,
     "metadata": {},
     "output_type": "execute_result"
    }
   ],
   "source": [
    "boxes"
   ]
  },
  {
   "cell_type": "code",
   "execution_count": 42,
   "metadata": {},
   "outputs": [
    {
     "data": {
      "text/plain": [
       "[[610.0, 145.0, 654.0, 177.0],\n",
       " [556.0, 144.0, 612.0, 192.0],\n",
       " [518.0, 179.0, 646.0, 265.0]]"
      ]
     },
     "execution_count": 42,
     "metadata": {},
     "output_type": "execute_result"
    }
   ],
   "source": [
    "gb"
   ]
  },
  {
   "cell_type": "code",
   "execution_count": 56,
   "metadata": {},
   "outputs": [
    {
     "ename": "AttributeError",
     "evalue": "'tuple' object has no attribute 'close'",
     "output_type": "error",
     "traceback": [
      "\u001b[0;31m---------------------------------------------------------------------------\u001b[0m",
      "\u001b[0;31mAttributeError\u001b[0m                            Traceback (most recent call last)",
      "\u001b[0;32m<ipython-input-56-62f3552097de>\u001b[0m in \u001b[0;36m<module>\u001b[0;34m()\u001b[0m\n\u001b[0;32m----> 1\u001b[0;31m \u001b[0mnet\u001b[0m\u001b[0;34m.\u001b[0m\u001b[0mclose\u001b[0m\u001b[0;34m(\u001b[0m\u001b[0;34m)\u001b[0m\u001b[0;34m\u001b[0m\u001b[0m\n\u001b[0m",
      "\u001b[0;31mAttributeError\u001b[0m: 'tuple' object has no attribute 'close'"
     ]
    }
   ],
   "source": [
    "net.close()"
   ]
  },
  {
   "cell_type": "code",
   "execution_count": 5,
   "metadata": {
    "collapsed": true
   },
   "outputs": [],
   "source": [
    "e = pickle.load( open( \"error_table\", \"rb\" ) )"
   ]
  },
  {
   "cell_type": "code",
   "execution_count": 6,
   "metadata": {},
   "outputs": [
    {
     "data": {
      "text/plain": [
       "instance"
      ]
     },
     "execution_count": 6,
     "metadata": {},
     "output_type": "execute_result"
    }
   ],
   "source": [
    "type(e)"
   ]
  },
  {
   "cell_type": "code",
   "execution_count": 13,
   "metadata": {},
   "outputs": [
    {
     "data": {
      "text/plain": [
       "['foreground0_width',\n",
       " 'color_sample',\n",
       " 'road_path',\n",
       " 'environment',\n",
       " 'road_id',\n",
       " 'foreground0car_color',\n",
       " 'foreground0car_orientation',\n",
       " 'foreground0_x',\n",
       " 'foreground0car_category',\n",
       " 'road_type',\n",
       " 'foreground0car_id',\n",
       " 'foreground0type',\n",
       " 'sharpness_sample',\n",
       " 'contrast_sample',\n",
       " 'foreground0car_path',\n",
       " 'foreground0_height',\n",
       " 'background_color',\n",
       " 'foreground0_y',\n",
       " 'brightness_sample']"
      ]
     },
     "execution_count": 13,
     "metadata": {},
     "output_type": "execute_result"
    }
   ],
   "source": [
    "e.entries.keys()"
   ]
  },
  {
   "cell_type": "code",
   "execution_count": 3,
   "metadata": {},
   "outputs": [
    {
     "ename": "IndexError",
     "evalue": "list index out of range",
     "output_type": "error",
     "traceback": [
      "\u001b[0;31m---------------------------------------------------------------------------\u001b[0m",
      "\u001b[0;31mIndexError\u001b[0m                                Traceback (most recent call last)",
      "\u001b[0;32m<ipython-input-3-60489385debe>\u001b[0m in \u001b[0;36m<module>\u001b[0;34m()\u001b[0m\n\u001b[1;32m      1\u001b[0m \u001b[0mnum_cars\u001b[0m\u001b[0;34m=\u001b[0m\u001b[0;36m1\u001b[0m\u001b[0;34m\u001b[0m\u001b[0m\n\u001b[1;32m      2\u001b[0m \u001b[0msample_dims\u001b[0m \u001b[0;34m=\u001b[0m \u001b[0;34m[\u001b[0m\u001b[0;36m1\u001b[0m\u001b[0;34m,\u001b[0m\u001b[0mnum_cars\u001b[0m\u001b[0;34m,\u001b[0m\u001b[0mnum_cars\u001b[0m\u001b[0;34m,\u001b[0m\u001b[0mnum_cars\u001b[0m\u001b[0;34m,\u001b[0m\u001b[0;36m1\u001b[0m\u001b[0;34m,\u001b[0m\u001b[0;36m1\u001b[0m\u001b[0;34m,\u001b[0m\u001b[0;36m1\u001b[0m\u001b[0;34m,\u001b[0m\u001b[0;36m1\u001b[0m\u001b[0;34m]\u001b[0m\u001b[0;34m\u001b[0m\u001b[0m\n\u001b[0;32m----> 3\u001b[0;31m \u001b[0msample\u001b[0m\u001b[0;34m,\u001b[0m \u001b[0mnorm_sample\u001b[0m \u001b[0;34m=\u001b[0m \u001b[0mget_sample\u001b[0m\u001b[0;34m(\u001b[0m\u001b[0;36m0\u001b[0m\u001b[0;34m,\u001b[0m \u001b[0;34m'halton'\u001b[0m\u001b[0;34m,\u001b[0m \u001b[0mtypes\u001b[0m\u001b[0;34m=\u001b[0m\u001b[0mtypes\u001b[0m\u001b[0;34m,\u001b[0m \u001b[0mdomains\u001b[0m\u001b[0;34m=\u001b[0m\u001b[0mdomains\u001b[0m\u001b[0;34m,\u001b[0m \u001b[0mdims\u001b[0m\u001b[0;34m=\u001b[0m\u001b[0msample_dims\u001b[0m\u001b[0;34m)\u001b[0m\u001b[0;34m\u001b[0m\u001b[0m\n\u001b[0m",
      "\u001b[0;32m/home/tommaso/analyzeNN/sampling_utils.pyc\u001b[0m in \u001b[0;36mget_sample\u001b[0;34m(i, method, types, domains, dims)\u001b[0m\n\u001b[1;32m     72\u001b[0m             \u001b[0msample\u001b[0m \u001b[0;34m=\u001b[0m \u001b[0mrandom_sample\u001b[0m\u001b[0;34m(\u001b[0m\u001b[0md\u001b[0m\u001b[0;34m)\u001b[0m\u001b[0;34m\u001b[0m\u001b[0m\n\u001b[1;32m     73\u001b[0m         \u001b[0;32mif\u001b[0m \u001b[0mmethod\u001b[0m \u001b[0;34m==\u001b[0m \u001b[0;34m'halton'\u001b[0m\u001b[0;34m:\u001b[0m\u001b[0;34m\u001b[0m\u001b[0m\n\u001b[0;32m---> 74\u001b[0;31m             \u001b[0msample\u001b[0m \u001b[0;34m=\u001b[0m \u001b[0mhalton_sample\u001b[0m\u001b[0;34m(\u001b[0m\u001b[0mi\u001b[0m\u001b[0;34m,\u001b[0m \u001b[0md\u001b[0m\u001b[0;34m)\u001b[0m\u001b[0;34m\u001b[0m\u001b[0m\n\u001b[0m\u001b[1;32m     75\u001b[0m \u001b[0;34m\u001b[0m\u001b[0m\n\u001b[1;32m     76\u001b[0m         \u001b[0mtyp\u001b[0m \u001b[0;34m=\u001b[0m \u001b[0mtypes\u001b[0m\u001b[0;34m[\u001b[0m\u001b[0mk\u001b[0m\u001b[0;34m]\u001b[0m\u001b[0;34m\u001b[0m\u001b[0m\n",
      "\u001b[0;32m/home/tommaso/analyzeNN/sampling_utils.pyc\u001b[0m in \u001b[0;36mhalton_sample\u001b[0;34m(i, dim)\u001b[0m\n\u001b[1;32m     43\u001b[0m     \u001b[0msample\u001b[0m \u001b[0;34m=\u001b[0m \u001b[0;34m[\u001b[0m\u001b[0;34m]\u001b[0m\u001b[0;34m\u001b[0m\u001b[0m\n\u001b[1;32m     44\u001b[0m     \u001b[0;32mfor\u001b[0m \u001b[0mseq\u001b[0m \u001b[0;32min\u001b[0m \u001b[0mseqs\u001b[0m\u001b[0;34m:\u001b[0m\u001b[0;34m\u001b[0m\u001b[0m\n\u001b[0;32m---> 45\u001b[0;31m         \u001b[0msample\u001b[0m \u001b[0;34m+=\u001b[0m \u001b[0;34m[\u001b[0m\u001b[0mseq\u001b[0m\u001b[0;34m[\u001b[0m\u001b[0;34m-\u001b[0m\u001b[0;36m1\u001b[0m\u001b[0;34m]\u001b[0m\u001b[0;34m]\u001b[0m\u001b[0;34m\u001b[0m\u001b[0m\n\u001b[0m\u001b[1;32m     46\u001b[0m \u001b[0;34m\u001b[0m\u001b[0m\n\u001b[1;32m     47\u001b[0m     \u001b[0;32mreturn\u001b[0m \u001b[0msample\u001b[0m\u001b[0;34m\u001b[0m\u001b[0m\n",
      "\u001b[0;31mIndexError\u001b[0m: list index out of range"
     ]
    }
   ],
   "source": [
    "num_cars=1\n",
    "sample_dims = [1,num_cars,num_cars,num_cars,1,1,1,1]\n",
    "sample, norm_sample = get_sample(0, 'halton', types=types, domains=domains, dims=sample_dims)"
   ]
  },
  {
   "cell_type": "code",
   "execution_count": null,
   "metadata": {},
   "outputs": [
    {
     "name": "stdout",
     "output_type": "stream",
     "text": [
      "1 0\n"
     ]
    }
   ],
   "source": [
    "MAX_ITERS = 3333\n",
    "i = 0\n",
    "j = 0\n",
    "v = 0\n",
    "while j < MAX_ITERS:\n",
    "    \n",
    "    total_attempts = 0\n",
    "    rejections = 0\n",
    "    \n",
    "    # Init data structure\n",
    "    if store_err_tab:\n",
    "        err_table = error_table()\n",
    "    if store_config_db:\n",
    "        config_db = ConfigDB()\n",
    "    \n",
    "    path_data_set = './data/tmp/'\n",
    "    #path_data_set = '/home/tommaso/analyzeNN/data/train_0/mis/mis_' + str(j) + '/'\n",
    "\n",
    "        \n",
    "    v = v+1\n",
    "\n",
    "    # Sample configuration\n",
    "    #num_cars = random.randint(min_num_cars, max_num_cars)\n",
    "    \n",
    "    t = time.time()\n",
    "    \n",
    "    num_cars = 3\n",
    "    \n",
    "    sample_dims = [1,num_cars,num_cars,num_cars,1,1,1,1]\n",
    "    sample, norm_sample = get_sample(int(random.random()*9999), 'halton', types=types, domains=domains, dims=sample_dims)\n",
    "\n",
    "    \n",
    "    #sample[0] = [random.choice([74,66,75])]\n",
    "    \n",
    "    car_models = []\n",
    "    for c in range(num_cars):\n",
    "        car_models += [random.choice(range(1,37))]\n",
    "    sample[1] = car_models\n",
    "    \n",
    "\n",
    "    sample[3].sort(reverse=True)\n",
    "    norm_sample[3].sort(reverse=True)\n",
    "\n",
    "    total_attempts += 1\n",
    "\n",
    "    good_sample = True\n",
    "    # Check sample distance from stored ones\n",
    "    if store_config_db:\n",
    "        sample_pad = pad_sample(sample)\n",
    "        good_sample = config_db.eps_dist(sample_pad,0.25)\n",
    "\n",
    "\n",
    "    if good_sample:\n",
    "        # Generate image from sample\n",
    "        img, ground_boxes, img_info = gen_image(sample)\n",
    "\n",
    "        # Is it a good picture? (cars don't overlap too much)\n",
    "        save_img = True\n",
    "        for m in range(len(ground_boxes)):\n",
    "            for n in range(m+1, len(ground_boxes)):\n",
    "                if iomin(ground_boxes[m], ground_boxes[n]) > IOMIN_THRESH:\n",
    "                    save_img = False\n",
    "\n",
    "        ap = 0\n",
    "        recall = 0\n",
    "\n",
    "        # Check misclassification\n",
    "        if gen_misclass and save_img:\n",
    "            # Save tmp image    \n",
    "            tmp_img_file_name = './tmp.png'\n",
    "            img.save(tmp_img_file_name)\n",
    "            \n",
    "            j = j + 1\n",
    "            print str(j), str(i)\n",
    "\n",
    "            # Classify img\n",
    "            (boxes,probs,cats) = nn.classify(tmp_img_file_name, net, NN_PROB_THRESH) \n",
    "\n",
    "            # Not cars\n",
    "            if any(cats):\n",
    "                save_img = True\n",
    "            else:\n",
    "                ap, recall = average_precision(ground_boxes, boxes, IOU_THRESH)\n",
    "                save_img =  (ap <= AP_THRESH or recall <= REC_THRESH)                        \n",
    "\n",
    "                \n",
    "        if save_img:\n",
    "            \n",
    "            elapsed = time.time() - t\n",
    "            \n",
    "            print elapsed\n",
    "\n",
    "            if store_config_db:\n",
    "                config_db.add(sample_pad)            \n",
    "\n",
    "            file_name = 'm_h_' + str(i).zfill(6)\n",
    "            #file_name = 'm_d_' + str(i).zfill(6)\n",
    "\n",
    "            print(file_name + ' ' + str(ap) + ' ' + str(recall))\n",
    "\n",
    "            # Save data\n",
    "            save_image(img, file_name, path_data_set)\n",
    "            save_label(ground_boxes, file_name, path_data_set)\n",
    "\n",
    "            # Save in image set\n",
    "            with open(path_data_set + 'image_set_m_1.txt', \"a+\") as im_set:\n",
    "                im_set.write(file_name + '\\n')\n",
    "                im_set.close()\n",
    "\n",
    "            if store_err_tab:\n",
    "                err_table.update_with_elem(img_info)\n",
    "\n",
    "            i+=1\n",
    "    else:\n",
    "        rejections += 1\n",
    "\n",
    "#         if(total_attempts %50 == 0):\n",
    "#             print('gen pics: ' + str(total_attempts) + ' | misclass pics: ' + str(i) + ' | rejections: ' +str(rejections))\n",
    "\n",
    "print i"
   ]
  },
  {
   "cell_type": "code",
   "execution_count": 14,
   "metadata": {},
   "outputs": [
    {
     "data": {
      "text/plain": [
       "[1, 2]"
      ]
     },
     "execution_count": 14,
     "metadata": {},
     "output_type": "execute_result"
    }
   ],
   "source": [
    "range(1,3)"
   ]
  },
  {
   "cell_type": "code",
   "execution_count": 15,
   "metadata": {},
   "outputs": [
    {
     "data": {
      "text/plain": [
       "3333"
      ]
     },
     "execution_count": 15,
     "metadata": {},
     "output_type": "execute_result"
    }
   ],
   "source": [
    "10000/3"
   ]
  },
  {
   "cell_type": "code",
   "execution_count": 5,
   "metadata": {},
   "outputs": [],
   "source": [
    "\n",
    "# do stuff\n"
   ]
  },
  {
   "cell_type": "code",
   "execution_count": 13,
   "metadata": {},
   "outputs": [
    {
     "data": {
      "text/plain": [
       "466"
      ]
     },
     "execution_count": 13,
     "metadata": {},
     "output_type": "execute_result"
    }
   ],
   "source": [
    "3333*7/50"
   ]
  },
  {
   "cell_type": "code",
   "execution_count": null,
   "metadata": {},
   "outputs": [],
   "source": []
  }
 ],
 "metadata": {
  "anaconda-cloud": {},
  "kernelspec": {
   "display_name": "Python 2",
   "language": "python",
   "name": "python2"
  },
  "language_info": {
   "codemirror_mode": {
    "name": "ipython",
    "version": 3
   },
   "file_extension": ".py",
   "mimetype": "text/x-python",
   "name": "python",
   "nbconvert_exporter": "python",
   "pygments_lexer": "ipython3",
   "version": "3.6.4"
  }
 },
 "nbformat": 4,
 "nbformat_minor": 2
}
